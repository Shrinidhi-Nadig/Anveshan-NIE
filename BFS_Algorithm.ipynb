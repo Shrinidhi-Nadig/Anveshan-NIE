{
  "nbformat": 4,
  "nbformat_minor": 0,
  "metadata": {
    "colab": {
      "provenance": [],
      "authorship_tag": "ABX9TyNL1TfCVof+tMG2pqVa3fEG",
      "include_colab_link": true
    },
    "kernelspec": {
      "name": "python3",
      "display_name": "Python 3"
    },
    "language_info": {
      "name": "python"
    }
  },
  "cells": [
    {
      "cell_type": "markdown",
      "metadata": {
        "id": "view-in-github",
        "colab_type": "text"
      },
      "source": [
        "<a href=\"https://colab.research.google.com/github/Shrinidhi-Nadig/Anveshan-NIE/blob/main/BFS_Algorithm.ipynb\" target=\"_parent\"><img src=\"https://colab.research.google.com/assets/colab-badge.svg\" alt=\"Open In Colab\"/></a>"
      ]
    },
    {
      "cell_type": "code",
      "execution_count": null,
      "metadata": {
        "id": "u2s4jrvKxI51"
      },
      "outputs": [],
      "source": [
        "from collections import deque\n",
        "graph={\n",
        "    'a':['b','c'],\n",
        "    'b':['d','e'],\n",
        "    'c':['f'],\n",
        "    'd':[],\n",
        "    'e':[],\n",
        "    'f':[]\n",
        "}"
      ]
    },
    {
      "cell_type": "code",
      "source": [
        "def bfs(graph,start_node):\n",
        "  visited=set()\n",
        "  queue=deque([start_node])\n",
        "  print(\"BFS Traversal Order: \")\n",
        "  while queue:\n",
        "    current_node=queue.popleft()\n",
        "    if current_node not in visited:\n",
        "      print(current_node,end=\" \")\n",
        "      visited.add(current_node)\n",
        "      for neighbor in graph[current_node]:\n",
        "        if neighbor not in visited:\n",
        "          queue.append(neighbor)\n",
        "\n",
        "bfs(graph,'a')"
      ],
      "metadata": {
        "colab": {
          "base_uri": "https://localhost:8080/"
        },
        "id": "I_eN0xUCzTxS",
        "outputId": "9f44fe1a-b9be-4405-8d54-6d936568cc5a"
      },
      "execution_count": null,
      "outputs": [
        {
          "output_type": "stream",
          "name": "stdout",
          "text": [
            "BFS Traversal Order: \n",
            "a b c d e f "
          ]
        }
      ]
    },
    {
      "cell_type": "code",
      "source": [],
      "metadata": {
        "id": "409gcjor8Lyf"
      },
      "execution_count": null,
      "outputs": []
    }
  ]
}